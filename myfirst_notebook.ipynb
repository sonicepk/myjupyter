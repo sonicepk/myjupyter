{
 "cells": [
  {
   "cell_type": "markdown",
   "id": "fd79f609-e642-4df4-8eac-13cae8fb335b",
   "metadata": {},
   "source": [
    "Using this tutorial from here https://www.dataquest.io/blog/jupyter-notebook-tutorial/\n"
   ]
  },
  {
   "cell_type": "code",
   "execution_count": 4,
   "id": "1169438d-0f76-4065-bef5-53dde8bd8ff2",
   "metadata": {},
   "outputs": [
    {
     "name": "stdout",
     "output_type": "stream",
     "text": [
      "Hello World!\n"
     ]
    }
   ],
   "source": [
    "print('Hello World!') "
   ]
  },
  {
   "cell_type": "raw",
   "id": "185013c6-c876-4b72-89dd-4070da894670",
   "metadata": {},
   "source": [
    "- hello some markdown\n",
    "- more markdown"
   ]
  },
  {
   "cell_type": "code",
   "execution_count": 8,
   "id": "9d953820-c801-41df-ae10-672fde534373",
   "metadata": {},
   "outputs": [],
   "source": [
    "import time\n",
    "time.sleep(3)"
   ]
  },
  {
   "cell_type": "code",
   "execution_count": 7,
   "id": "09b03934-ca36-46e3-9344-bc61a885297b",
   "metadata": {},
   "outputs": [
    {
     "data": {
      "text/plain": [
       "'Hello, Tim!'"
      ]
     },
     "execution_count": 7,
     "metadata": {},
     "output_type": "execute_result"
    }
   ],
   "source": [
    "def say_hello(recipient):\n",
    "    return 'Hello, {}!'.format(recipient)\n",
    "say_hello('Tim')"
   ]
  },
  {
   "cell_type": "raw",
   "id": "f42b7f1a-92e7-4edb-be85-8861a0a78fed",
   "metadata": {},
   "source": [
    "# This is a level 1 heading\n",
    "\n",
    "## This is a level 2 heading\n",
    "\n",
    "This is some plain text that forms a paragraph. Add emphasis via **bold** or __bold__, and *italic* or _italic_.\n",
    "\n",
    "Paragraphs must be separated by an empty line.\n",
    "\n",
    "* Sometimes we want to include lists.\n",
    "* Which can be bulleted using asterisks.\n",
    "\n",
    "1. Lists can also be numbered.\n",
    "2. If we want an ordered list.\n",
    "\n",
    "[It is possible to include hyperlinks](https://www.dataquest.io)\n",
    "\n",
    "Inline code uses single backticks: `foo()`, and code blocks use triple backticks:\n",
    "```\n",
    "bar()\n",
    "```\n",
    "Or can be indented by 4 spaces:\n",
    "```\n",
    "    foo()\n",
    "```\n",
    "\n",
    "And finally, adding images is easy: ![Alt text](https://www.dataquest.io/wp-content/uploads/2023/02/DQ-Logo.svg)"
   ]
  },
  {
   "cell_type": "code",
   "execution_count": 10,
   "id": "66b1b58f-5e32-4f1a-ae5b-b5f88e1d1b7a",
   "metadata": {},
   "outputs": [],
   "source": [
    "import numpy as np\n",
    "def square(x):\n",
    "    return x * x"
   ]
  },
  {
   "cell_type": "code",
   "execution_count": 12,
   "id": "570a8bad-9fb9-47df-a335-011b16d26663",
   "metadata": {},
   "outputs": [
    {
     "name": "stdout",
     "output_type": "stream",
     "text": [
      "6 squared is 36\n"
     ]
    }
   ],
   "source": [
    "x = np.random.randint(1, 10)\n",
    "y = square(x)\n",
    "print('%d squared is %d' % (x, y))"
   ]
  },
  {
   "cell_type": "code",
   "execution_count": 13,
   "id": "3d65a23a-09b5-49f3-9ea1-3b7b2ae3cb33",
   "metadata": {},
   "outputs": [
    {
     "name": "stdout",
     "output_type": "stream",
     "text": [
      "6 squared is 10\n"
     ]
    }
   ],
   "source": [
    "y = 10\n",
    "print('%d squared is %d' % (x, y))"
   ]
  },
  {
   "cell_type": "code",
   "execution_count": null,
   "id": "1fffad3a-c8c7-4f56-9f43-525144050aa5",
   "metadata": {},
   "outputs": [],
   "source": []
  }
 ],
 "metadata": {
  "kernelspec": {
   "display_name": "Python 3 (ipykernel)",
   "language": "python",
   "name": "python3"
  },
  "language_info": {
   "codemirror_mode": {
    "name": "ipython",
    "version": 3
   },
   "file_extension": ".py",
   "mimetype": "text/x-python",
   "name": "python",
   "nbconvert_exporter": "python",
   "pygments_lexer": "ipython3",
   "version": "3.13.0"
  }
 },
 "nbformat": 4,
 "nbformat_minor": 5
}
